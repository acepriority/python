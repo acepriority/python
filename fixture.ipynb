{
  "nbformat": 4,
  "nbformat_minor": 0,
  "metadata": {
    "colab": {
      "provenance": []
    },
    "kernelspec": {
      "name": "python3",
      "display_name": "Python 3"
    },
    "language_info": {
      "name": "python"
    }
  },
  "cells": [
    {
      "cell_type": "code",
      "execution_count": 1,
      "metadata": {
        "colab": {
          "base_uri": "https://localhost:8080/"
        },
        "id": "IIal2o2Y1OKH",
        "outputId": "087d19d3-58df-48ae-f645-4a799e193d1c"
      },
      "outputs": [
        {
          "output_type": "stream",
          "name": "stdout",
          "text": [
            "Fixtures have been saved to fixtures.xlsx.\n"
          ]
        }
      ],
      "source": [
        "import itertools\n",
        "import random\n",
        "import pandas as pd\n",
        "\n",
        "def generate_fixture(teams):\n",
        "    num_teams = len(teams)\n",
        "\n",
        "    if num_teams % 2 != 0:\n",
        "        teams.append(\"BYE\")\n",
        "        num_teams += 1\n",
        "\n",
        "    fixtures = []\n",
        "\n",
        "    for round_num in range(2):\n",
        "        round_fixtures = []\n",
        "        random.shuffle(teams)\n",
        "        pairings = list(itertools.combinations(teams, 2))\n",
        "        for match in pairings:\n",
        "            home, away = match\n",
        "            if home != \"BYE\" and away != \"BYE\":\n",
        "                round_fixtures.append((home, away))\n",
        "        fixtures.append(round_fixtures)\n",
        "    return fixtures\n",
        "\n",
        "teams = [\"Ace GOAT\", \"Shawn Owner\", \"Fortune Loser\", \"Benjie Kayondo\"]\n",
        "fixtures = generate_fixture(teams)\n",
        "fixture_data = []\n",
        "\n",
        "round_num = 1\n",
        "for round_fixtures in fixtures:\n",
        "    for match in round_fixtures:\n",
        "        fixture_data.append([round_num, match[0], match[1]])\n",
        "    round_num += 1\n",
        "\n",
        "df = pd.DataFrame(fixture_data, columns=[\"Round\", \"Home Team\", \"Away Team\"])\n",
        "df.to_excel(\"fixtures.xlsx\", index=False)\n",
        "print(\"Fixtures have been saved to fixtures.xlsx.\")"
      ]
    }
  ]
}